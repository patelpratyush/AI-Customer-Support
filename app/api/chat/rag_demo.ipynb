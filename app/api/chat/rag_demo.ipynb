{
 "cells": [
  {
   "cell_type": "code",
   "execution_count": 14,
   "metadata": {},
   "outputs": [],
   "source": [
    "from langchain.document_loaders import UnstructuredPDFLoader, OnlinePDFLoader, WebBaseLoader, YoutubeLoader, DirectoryLoader, TextLoader, PyPDFLoader\n",
    "from langchain.text_splitter import RecursiveCharacterTextSplitter\n",
    "from sklearn.metrics.pairwise import cosine_similarity\n",
    "from langchain_pinecone import PineconeVectorStore\n",
    "from langchain.embeddings import OpenAIEmbeddings\n",
    "from langchain_community.embeddings import HuggingFaceEmbeddings\n",
    "# from langchain_huggingface import HuggingFaceEmbeddings\n",
    "from pinecone import Pinecone\n",
    "from openai import OpenAI\n",
    "import numpy as np\n",
    "from dotenv import load_dotenv\n",
    "import tiktoken\n",
    "import os"
   ]
  },
  {
   "cell_type": "code",
   "execution_count": 15,
   "metadata": {},
   "outputs": [],
   "source": [
    "load_dotenv(dotenv_path='../../../.env.local')\n",
    "pinecone_api_key = os.getenv('PINECONE_API_KEY')\n",
    "openai_api_key = os.getenv('OPENAI_API_KEY')\n",
    "openrouter_api_key = os.getenv('OPENROUTER_API_KEY')\n",
    "huggingface_api_token = os.getenv('HUGGINGFACE_API_TOKEN')"
   ]
  },
  {
   "cell_type": "code",
   "execution_count": 16,
   "metadata": {},
   "outputs": [],
   "source": [
    "model_choice = 'openai' # 'openai' or 'huggingface'"
   ]
  },
  {
   "cell_type": "markdown",
   "metadata": {},
   "source": [
    "#### Initialize OpenAI or HuggingFace Client"
   ]
  },
  {
   "cell_type": "code",
   "execution_count": 17,
   "metadata": {},
   "outputs": [
    {
     "name": "stderr",
     "output_type": "stream",
     "text": [
      "c:\\Users\\bchen\\.conda\\envs\\chatbot3\\lib\\site-packages\\langchain_core\\_api\\deprecation.py:139: LangChainDeprecationWarning: The class `OpenAIEmbeddings` was deprecated in LangChain 0.0.9 and will be removed in 0.3.0. An updated version of the class exists in the langchain-openai package and should be used instead. To use it run `pip install -U langchain-openai` and import as `from langchain_openai import OpenAIEmbeddings`.\n",
      "  warn_deprecated(\n"
     ]
    }
   ],
   "source": [
    "if model_choice == 'openai':\n",
    "    embeddings = OpenAIEmbeddings()\n",
    "    embed_model = \"text-embedding-3-small\"\n",
    "    openai_client = OpenAI()\n",
    "elif model_choice == 'huggingface':\n",
    "    hf_embeddings = HuggingFaceEmbeddings(model_name=\"sentence-transformers/all-MiniLM-L6-v2\")\n",
    "    query_result = hf_embeddings.embed_query(text)\n",
    "\n",
    "    openrouter_client = OpenAI( # Llama 3.1 API\n",
    "        base_url=\"https://openrouter.ai/api/v1\",\n",
    "        api_key=openrouter_api_key\n",
    "        )"
   ]
  },
  {
   "cell_type": "markdown",
   "metadata": {},
   "source": [
    "#### Initialize Text Splitter"
   ]
  },
  {
   "cell_type": "code",
   "execution_count": 18,
   "metadata": {},
   "outputs": [],
   "source": [
    "tokenizer = tiktoken.get_encoding('p50k_base')\n",
    "\n",
    "# create the length function\n",
    "def tiktoken_len(text):\n",
    "    tokens = tokenizer.encode(\n",
    "        text,\n",
    "        disallowed_special=()\n",
    "    )\n",
    "    return len(tokens)\n",
    "\n",
    "text_splitter = RecursiveCharacterTextSplitter(\n",
    "        chunk_size=2000,\n",
    "        chunk_overlap=100,\n",
    "        length_function=tiktoken_len,\n",
    "        separators=[\"\\n\\n\", \"\\n\", \" \", \"\"]\n",
    ")"
   ]
  },
  {
   "cell_type": "markdown",
   "metadata": {},
   "source": [
    "#### Embeddings"
   ]
  },
  {
   "cell_type": "code",
   "execution_count": 19,
   "metadata": {},
   "outputs": [
    {
     "name": "stdout",
     "output_type": "stream",
     "text": [
      "Embedding for Word 1: [[-0.00409901 -0.02935333 -0.06173278 ...  0.0112379  -0.00698414\n",
      "  -0.00348519]]\n",
      "\n",
      "Embedding for Word 2: [[-0.00058948 -0.05813902 -0.06282136 ...  0.01669302 -0.01365682\n",
      "  -0.01385192]]\n",
      "\n",
      "\n",
      "Cosine similarity between 'Great to finally meet!' and 'Nice to meet you': 0.6680\n"
     ]
    }
   ],
   "source": [
    "def get_embedding(text):\n",
    "    # Call the OpenAI API to get the embedding for the text\n",
    "    if model_choice == 'openai':\n",
    "        response = openai_client.embeddings.create(input=text, model=\"text-embedding-3-small\")\n",
    "        embedding = response.data[0].embedding\n",
    "    elif model_choice == 'huggingface':\n",
    "        # response = hf_embeddings.embeddings.create(input=text, model=\"sentence-transformers/all-MiniLM-L6-v2\")\n",
    "        embedding = hf_embeddings.embed_query(text)\n",
    "\n",
    "    return embedding\n",
    "\n",
    "def cosine_similarity_between_words(word1, word2):\n",
    "    # Get embeddings for both words\n",
    "    embedding1 = np.array(get_embedding(word1))\n",
    "    embedding2 = np.array(get_embedding(word2))\n",
    "\n",
    "    # Reshape embeddings for cosine_similarity function\n",
    "    embedding1 = embedding1.reshape(1, -1)\n",
    "    embedding2 = embedding2.reshape(1, -1)\n",
    "\n",
    "    print(\"Embedding for Word 1:\", embedding1)\n",
    "    print(\"\\nEmbedding for Word 2:\", embedding2)\n",
    "\n",
    "    # Calculate cosine similarity\n",
    "    similarity = cosine_similarity(embedding1, embedding2)\n",
    "    return similarity[0][0]\n",
    "\n",
    "\n",
    "# Example usage\n",
    "sentence1 = \"Great to finally meet!\"\n",
    "sentence2 = \"Nice to meet you\"\n",
    "\n",
    "\n",
    "similarity = cosine_similarity_between_words(sentence1, sentence2)\n",
    "print(f\"\\n\\nCosine similarity between '{sentence1}' and '{sentence2}': {similarity:.4f}\")"
   ]
  },
  {
   "cell_type": "markdown",
   "metadata": {},
   "source": [
    "#### Load YouTube video and get transcript"
   ]
  },
  {
   "cell_type": "code",
   "execution_count": 20,
   "metadata": {},
   "outputs": [
    {
     "name": "stdout",
     "output_type": "stream",
     "text": [
      "[Document(metadata={'source': 'ArcI4A5nvBo', 'title': 'iOS 18 Hands-On: Top 5 Features!', 'description': 'Unknown', 'view_count': 5754471, 'thumbnail_url': 'https://i.ytimg.com/vi/ArcI4A5nvBo/hq720.jpg', 'publish_date': '2024-07-15 00:00:00', 'length': 766, 'author': 'Marques Brownlee'}, page_content='(shapes springing)\\n(groovy hip-hop music) - All right, it\\'s mid-2024,\\nso you know what that means, another new version of iOS\\ncoming to an iPhone near you. So, I\\'ve been testing the\\nnewest version of iOS 18 on my iPhone for the\\npast couple weeks now. It\\'s been in beta, and now\\nthat the public beta\\'s out, you too can test it on an iPhone before it comes out for\\neveryone in September. But there is some interesting\\nstuff in this version. Now, last year, I\\nremember talking about how almost every single one\\nof those new features was super ecosystem-based. Like, they would depend on\\nhaving a friend with an iPhone or having some other\\nApple device in your life, but it\\'s kinda the opposite with these. They\\'re all just basically new features to the iPhone, anyway. So I love to see that. Now, for this video, the\\none thing I\\'m leaving out is Apple Intelligence stuff. That\\'s like an entire\\nseparate bucket of stuff that, to be honest, hasn\\'t really been available for me to test\\nin the pre-release betas. So I\\'m gonna make a separate\\nvideo just about that stuff as soon as it\\'s actually testable. So be sure to get subscribed to see that when I actually drop that video. But this video is the top\\nfive of everything else. All right, number five,\\nthe new Control Center. So I have this at number five because while there is a good\\namount of new stuff here, I don\\'t know if I like\\nall of the new changes, but let me know what you think. So when you pull down from the corner, the new Control Center is, first of all, a\\nlittle bit more colorful, and it\\'s paginated, it\\'s three pages now. I\\'ll honestly probably never really use the second two pages, but they\\nare a full-page visualizer for whatever media is playing. And then a list of all\\nthese one-touch toggles for your basic connectivity. But actually turns out this full-page list is really just an expanded version of what you already had on the first page, so you can get there\\nwith a couple more taps. But okay, so on that first page, if you hit the plus button in\\nthe corner, it shows a grid, and then you can play with the size and placement of anything that has a tab in that bottom corner. So they all kind of have\\nthese predefined sizes that they morph between. So you can mess around\\nhere with, you know, basically designing your perfect layout for your control screen. You can add new controls, and there\\'s a whole massive list of them to search through here and\\nsurface things that you do often. And right now, these are\\nbasically all Apple app controls. What I\\'m more interested in, though, is... I mean, these are all\\ncontrols, like I said, not widgets. So, they\\'re for controlling\\nthings very directly, like turning on wifi or\\nturning up the brightness. And so Apple has said\\nthat third-party apps are gonna be able to build\\nin controls, as well. So there\\'s none here now,\\nbut I very much look forward to like a one-touch turning\\non the AC in the car or one-touch opening\\nup the barcode scanner in my calorie tracker app\\nor something like that. So just having more\\ncontrols surface in here, that\\'s gonna be pretty sweet. We\\'ve also noticed this\\nnew flashlight control, which, when you click\\nit allows you to control both the intensity and the\\nbeam width of the torch for some reason. The intensity part definitely works. The beam width, I don\\'t know if I\\'m as\\nconvinced on that one, but I guess it\\'s still a really cool UI. Oh, also, there\\'s a new button up here to turn off your phone, kinda like Android added a\\nwhile ago in the settings. But also, you can now\\nfinally change the controls on your lock screen now. From the default, which\\nhave been the flashlight and the camera for\\nforever, you can hold down, customize, lock screen, and get in there and go to town. Again, I hope there\\'s third-party\\nones that end up here, but there\\'s already a ton of options. I am excited to set mine to\\nmy to-do list app someday. But that brings us to number four, the number four best new iOS 18 feature and that\\'s the Passwords app. You know, every once in a\\nwhile, there\\'s just a new update that installs a new app\\non everyone\\'s phones and just drops it on your home screen. So this is one of them. But essentially, what this\\nis is just breaking out all of the password tools that were previously buried\\nin the settings on the phone and making it an app. So your iPhone\\'s been saving\\nyour passwords for a while now, saving wifi passcodes,\\nremembering all this stuff. This app is just a super simple way of finding it all in one place, searching through that stuff,\\nand making sense of it. Plus, it also supports some new features. So there\\'s two-factor\\nauthentication and pass keys. And then there\\'s a couple\\nextra things on top that may be good enough\\nto get you to switch from whatever password manager app you\\'re using on your iPhone\\nto Apple\\'s Passwords app. So, at the bottom left, you\\ncan create shared passwords and pass keys within a\\ngroup of trusted contacts. Works with other people\\nwith iPhones, anyway. And then, when you\\'re signing up for some new account somewhere, it\\'ll do the same thing it always does. It offers a super secure password and then offers to remember it for you. But what I found interesting is it doesn\\'t really have,\\nlike, a master password, it just seems on the iPhone\\nto default to Face ID. So if you\\'ve got face ID on your iPhone, it\\'ll ask for that to log\\nin, no master password. Really, the main reason I\\'m\\nnot gonna be using this app is because I stole daily an Android phone, and, of course, they did\\nnot make an Android version of this Passwords app. They did make a Mac app, and they also did make a Chrome extension, which is interesting. But yeah, no Android app, and I still log into a\\nbunch of stuff on Android, so it\\'s not for me. But number three is gonna have to be the new home screen customization. Some of you might\\'ve\\nexpected this to be higher, like number one or number\\ntwo, but I have my reasons, and maybe let me know\\nif you agree with them. So, the day has finally come. There is new customization stuff available to iPhone home screens, kinda. I mean, there\\'s some good stuff\\nand also some weird stuff. I\\'ll start with the stuff I like. Here\\'s the easy part: iPhone users can now put their icons anywhere on their home\\nscreens that they want. Welcome to 2024, iPhone users. Who\\'s got it better than you? Now, everything still snaps\\nto the grid, of course, but now you can actually\\nput icons on the right side or the bottom of your home screen where they\\'ll actually be reachable, and they won\\'t have to\\nsnap back up to the top. How cool is that? First, they give you widgets,\\nnow they give you this. It\\'s unbelievable stuff. But now, okay, if you wanna\\ncustomize even further, you hold down on anywhere\\non the home screen, and there\\'s a little\\nedit button at the top. You hit that, and then you hit customize, and then this is it. This is the entire home\\nscreen customization menu now for the iPhone. So you can go dark mode, which tints your\\nwallpaper a little darker, and then sets your icons that have a dark mode\\nversion to dark mode. Or you could set light\\nmode, which is the opposite. It sets your icons to light, and it tints your wallpaper\\nlight, and they\\'re automatic. But there\\'s also this large button here, which just makes all of your icons larger, but then also removes the text. Honestly, kind of clean, not gonna lie. But then there\\'s this tinted button, which feels kind of cursed. So this is already kind\\nof a weird-looking icon. When you click it, it\\nlets you tint the color of all the icons on your home screen to a single matching color. Which sounds kind of cool in\\ntheory to match your wallpaper. And actually, there\\'s even a color picker to drop exactly the same color that you\\'re using from your\\nwallpaper as your tint color. But there\\'s just something about this tint that I can\\'t quite get right. Like, I haven\\'t gotten any combination to really look that good at all. Now, there\\'s been some updates\\non this since the first beta. Still doesn\\'t look great. Like, it looks better than before. But here\\'s what I think is going on here. There are certain apps that\\nare, like, pretty simple and high-contrast icons that look fine. Like, some of them are Apple apps, some of them are third-party apps, and then especially Apple widgets. Like, look at this weather widget. That looks great. That looks really solid\\nwith this nice accent color because it keeps\\neverything really readable. But then there are also\\nsome third-party app icons and widgets that just\\nlook completely illegible. Like, they may need to be updated to support this tinting thing\\nin a more contrasty way. So it\\'s the mixing of\\nthese two that look weird. Like even on my home\\nscreen, look at CARROT, like the weather app, or Superlist, they look worse than the rest of the icons on my home screen. I think the standard\\nthat they\\'re aiming for is, like, a dark gray background with a tinted glyph in the middle, instead of the whole thing being tinted. So it is what it is. I will also say Google has also tried this with Material You in Android, and it also kind of went weird in its own different, unique way. Basically, it would set all the icons to a monochrome version, but\\nif an app didn\\'t support it, it just didn\\'t change. So a lot of people had a\\nmix of monochrome icons and colorful icons, which\\nalso doesn\\'t look good at all. So, I guess the tinting method could be considered a workaround. I\\'m sure people will play with this more. Icons will continue to get updates. I\\'m sure someday maybe it\\'ll\\nlook great for some people, but I haven\\'t seen that yet. But all right, number two,\\nfor me, is the little things. Again, there are a bunch\\nof tiny little things and small features that\\nindividually are not huge, but they\\'ll kind of feel like they add up to a bunch of useful things in the end. A lot of them didn\\'t\\neven make the keynote. But, like, game mode, for\\nexample, they talked about this. We know that when you have a game open, it gives it CPU priority and\\nminimizes Bluetooth latency for any wireless\\nheadphones or controllers. That\\'s a really simple\\nthing, but it\\'s nice. The Photos app also got a redesign, but I also am more impressed\\nwith the smart search inside of Photos. It works much better. So if I search for, like\\n\"license plate,\" for example, not only does it recognize and find all the photos in your\\ngallery with license plates, but it also gives you these\\nsuggestions to narrow it down to find the exact one\\nthat you\\'re looking for, and it actually works. I\\'ve also noticed they\\nadded a bunch of shortcuts to Shazam everywhere, including\\nan Action button preset as one of the new defaults\\nin the Settings app. This wasn\\'t here before. I thought that was interesting. And then I Googled it, and\\napparently, Apple bought Shazam not that long ago, which\\nI totally forgot about. So there you have more of that. And RCS support does appear to finally be live on the iPhone in 2024. (clapping) It\\'s going great. Now, as I predicted, it\\nis still a green bubble, but you can now finally text between any modern Android phone and an iPhone and actually get high-quality media. I sent myself a three-megabyte\\nimage file from the iPhone, and I got a full-quality\\nthree-megabyte image on Android. And there\\'s also now typing indicators and read receipts now. Reactions seem to be working well. So it\\'s not fully integrated\\ninto a blue bubble iMessage, like maybe some people were hoping. But Apple can now say\\nthat they finally did it, and now that person\\nfrom that one interview doesn\\'t have to buy his mom an iPhone. But then number one. The number one best new feature in iOS 18, bro, it\\'s a calculator. (chuckling) It\\'s actually the calculator. Now, you might have thought\\nthis was just an iPad thing \\'cause we all saw this\\nget demoed at the keynote in iPadOS 18, but it actually\\nis on the iPhone, as well. So, as a default, you open\\nup the Calculator app, it just looks like a basic calculator. This looks very familiar. But at the bottom left,\\nthere\\'s this little toggle where you can switch to\\na scientific calculator. Okay, pretty classic. Or you can switch to this\\nnew thing called Math Notes. And now it basically\\nlooks like a notes app. So you can create a new note and literally just start\\nhandwriting math notes, literally. You can write an equation, and if you happen to\\nwrite that equal sign, it can automatically solve\\nthat equation for you and keep it updated as you\\ncontinue writing or typing. It\\'s pretty sick. There are also all kinds\\nof other things it can do, from variables to graphs. It\\'s basically doing everything I was asking Wolfram|Alpha to do lately. But a kind of underrated\\npart of this is how it feels very well considered, and it\\'s also syncing across devices just, like, as a bunch of notes. So your calculator just kind\\nof gained a notes section. So, if you add a bunch of\\nstuff to Notes on your iPhone, the iPad with the calculator\\nhas all of the same notes, and you can edit them on the other device. And if you happen to redefine a variable lower down in the same note, then it actually knows\\nthen from that point on to treat that variable as\\nthe new value you gave it but keeps the old value\\nfor everything above it. It\\'s very well impressively thought out. Now, obviously, this\\nstuff is gonna be easier with a bigger screen and\\nwith an Apple Pencil. But, man, I was doing\\nall this stuff in school with a paper notebook and a TI-84. So, at the risk of sounding kind of old, I totally wish I had something like this when I was in school. It\\'s very impressive. It\\'s doing so many things. It\\'s recognizing my handwriting. It\\'s obviously answering the\\nequations I\\'m asking of it, but it\\'s also writing the\\nanswers in my own handwriting and then it\\'s straightening everything up. And it\\'s making everything\\nsearchable and indexable through not just that Math\\nNotes app in all the devices but across my whole phone. So it\\'s pretty sick. I\\'m impressed by this more than anything else\\nI\\'ve seen in iOS 18. So that\\'s why it\\'s my number\\none feature in iOS 18. But there\\'s your whole top five. But like I said, get\\nsubscribed to see a deep dive into Apple Intelligence \\'cause this is the thing\\nthat kind of permeates the entire iPhone and\\nApple\\'s whole ecosystem. So that video\\'s coming up soon,\\nand that\\'s been it for this. Thanks for watching. Catch you the next one. Peace.')]\n"
     ]
    }
   ],
   "source": [
    "loader = YoutubeLoader.from_youtube_url(\"https://www.youtube.com/watch?v=ArcI4A5nvBo\", add_video_info=True)\n",
    "data = loader.load()\n",
    "\n",
    "print(data)"
   ]
  },
  {
   "cell_type": "code",
   "execution_count": 21,
   "metadata": {},
   "outputs": [],
   "source": [
    "texts = text_splitter.split_documents(data)"
   ]
  },
  {
   "cell_type": "code",
   "execution_count": 22,
   "metadata": {},
   "outputs": [
    {
     "data": {
      "text/plain": [
       "[Document(metadata={'source': 'ArcI4A5nvBo', 'title': 'iOS 18 Hands-On: Top 5 Features!', 'description': 'Unknown', 'view_count': 5754471, 'thumbnail_url': 'https://i.ytimg.com/vi/ArcI4A5nvBo/hq720.jpg', 'publish_date': '2024-07-15 00:00:00', 'length': 766, 'author': 'Marques Brownlee'}, page_content=\"(shapes springing)\\n(groovy hip-hop music) - All right, it's mid-2024,\\nso you know what that means, another new version of iOS\\ncoming to an iPhone near you. So, I've been testing the\\nnewest version of iOS 18 on my iPhone for the\\npast couple weeks now. It's been in beta, and now\\nthat the public beta's out, you too can test it on an iPhone before it comes out for\\neveryone in September. But there is some interesting\\nstuff in this version. Now, last year, I\\nremember talking about how almost every single one\\nof those new features was super ecosystem-based. Like, they would depend on\\nhaving a friend with an iPhone or having some other\\nApple device in your life, but it's kinda the opposite with these. They're all just basically new features to the iPhone, anyway. So I love to see that. Now, for this video, the\\none thing I'm leaving out is Apple Intelligence stuff. That's like an entire\\nseparate bucket of stuff that, to be honest, hasn't really been available for me to test\\nin the pre-release betas. So I'm gonna make a separate\\nvideo just about that stuff as soon as it's actually testable. So be sure to get subscribed to see that when I actually drop that video. But this video is the top\\nfive of everything else. All right, number five,\\nthe new Control Center. So I have this at number five because while there is a good\\namount of new stuff here, I don't know if I like\\nall of the new changes, but let me know what you think. So when you pull down from the corner, the new Control Center is, first of all, a\\nlittle bit more colorful, and it's paginated, it's three pages now. I'll honestly probably never really use the second two pages, but they\\nare a full-page visualizer for whatever media is playing. And then a list of all\\nthese one-touch toggles for your basic connectivity. But actually turns out this full-page list is really just an expanded version of what you already had on the first page, so you can get there\\nwith a couple more taps. But okay, so on that first page, if you hit the plus button in\\nthe corner, it shows a grid, and then you can play with the size and placement of anything that has a tab in that bottom corner. So they all kind of have\\nthese predefined sizes that they morph between. So you can mess around\\nhere with, you know, basically designing your perfect layout for your control screen. You can add new controls, and there's a whole massive list of them to search through here and\\nsurface things that you do often. And right now, these are\\nbasically all Apple app controls. What I'm more interested in, though, is... I mean, these are all\\ncontrols, like I said, not widgets. So, they're for controlling\\nthings very directly, like turning on wifi or\\nturning up the brightness. And so Apple has said\\nthat third-party apps are gonna be able to build\\nin controls, as well. So there's none here now,\\nbut I very much look forward to like a one-touch turning\\non the AC in the car or one-touch opening\\nup the barcode scanner in my calorie tracker app\\nor something like that. So just having more\\ncontrols surface in here, that's gonna be pretty sweet. We've also noticed this\\nnew flashlight control, which, when you click\\nit allows you to control both the intensity and the\\nbeam width of the torch for some reason. The intensity part definitely works. The beam width, I don't know if I'm as\\nconvinced on that one, but I guess it's still a really cool UI. Oh, also, there's a new button up here to turn off your phone, kinda like Android added a\\nwhile ago in the settings. But also, you can now\\nfinally change the controls on your lock screen now. From the default, which\\nhave been the flashlight and the camera for\\nforever, you can hold down, customize, lock screen, and get in there and go to town. Again, I hope there's third-party\\nones that end up here, but there's already a ton of options. I am excited to set mine to\\nmy to-do list app someday. But that brings us to number four, the number four best new iOS 18 feature and that's the Passwords app. You know, every once in a\\nwhile, there's just a new update that installs a new app\\non everyone's phones and just drops it on your home screen. So this is one of them. But essentially, what this\\nis is just breaking out all of the password tools that were previously buried\\nin the settings on the phone and making it an app. So your iPhone's been saving\\nyour passwords for a while now, saving wifi passcodes,\\nremembering all this stuff. This app is just a super simple way of finding it all in one place, searching through that stuff,\\nand making sense of it. Plus, it also supports some new features. So there's two-factor\\nauthentication and pass keys. And then there's a couple\\nextra things on top that may be good enough\\nto get you to switch from whatever password manager app you're using on your iPhone\\nto Apple's Passwords app. So, at the bottom left, you\\ncan create shared passwords and pass keys within a\\ngroup of trusted contacts. Works with other people\\nwith iPhones, anyway. And then, when you're signing up for some new account somewhere, it'll do the same thing it always does. It offers a super secure password and then offers to remember it for you. But what I found interesting is it doesn't really have,\\nlike, a master password, it just seems on the iPhone\\nto default to Face ID. So if you've got face ID on your iPhone, it'll ask for that to log\\nin, no master password. Really, the main reason I'm\\nnot gonna be using this app is because I stole daily an Android phone, and, of course, they did\\nnot make an Android version of this Passwords app. They did make a Mac app, and they also did make a Chrome extension, which is interesting. But yeah, no Android app, and I still log into a\\nbunch of stuff on Android, so it's not for me. But number three is gonna have to be the new home screen customization. Some of you might've\\nexpected this to be higher, like number one or number\\ntwo, but I have my reasons, and maybe let me know\\nif you agree with them. So, the day has finally come. There is new customization stuff available to iPhone home screens, kinda. I mean, there's some good stuff\\nand also some weird stuff. I'll start with the stuff I like. Here's the easy part: iPhone users can now put their icons anywhere on their home\\nscreens that they want. Welcome to 2024, iPhone users. Who's got it better than you? Now, everything still snaps\\nto the grid, of course, but now you can actually\\nput icons on the right side or the bottom of your home screen where they'll actually be reachable, and they won't have to\\nsnap back up to the top. How cool is that? First, they give you widgets,\\nnow they give you this. It's unbelievable stuff. But now, okay, if you wanna\\ncustomize even further, you hold down on anywhere\\non the home screen, and there's a little\\nedit button at the top. You hit that, and then you hit customize, and then this is it. This is the entire home\\nscreen customization menu now for the iPhone. So you can go dark mode, which tints your\\nwallpaper a little darker, and then sets your icons that have a dark mode\\nversion to dark mode. Or you could set light\\nmode, which is the opposite. It sets your icons to light, and it tints your wallpaper\\nlight, and they're automatic. But there's also this large button here, which just makes all of your icons larger, but then also removes the text. Honestly, kind of clean, not gonna lie. But then there's this tinted button, which feels kind of cursed. So this is already kind\\nof a weird-looking icon. When you click it, it\\nlets you tint the color of all the icons on your home screen to a single matching color. Which sounds kind of cool in\\ntheory to match your wallpaper. And actually, there's even a color picker to drop exactly the same color that you're using from your\\nwallpaper as your tint color. But there's just something about this tint that I can't quite get right. Like, I haven't gotten any combination to really look that good at all. Now, there's been some updates\\non this since the first beta. Still doesn't look great. Like, it looks better than before. But here's what I think is going on here. There are certain apps that\\nare, like, pretty simple and high-contrast icons that look fine. Like, some of them are Apple apps, some of them are third-party apps, and then especially Apple widgets. Like, look at this weather widget. That looks great. That looks really solid\"),\n",
       " Document(metadata={'source': 'ArcI4A5nvBo', 'title': 'iOS 18 Hands-On: Top 5 Features!', 'description': 'Unknown', 'view_count': 5754471, 'thumbnail_url': 'https://i.ytimg.com/vi/ArcI4A5nvBo/hq720.jpg', 'publish_date': '2024-07-15 00:00:00', 'length': 766, 'author': 'Marques Brownlee'}, page_content='on this since the first beta. Still doesn\\'t look great. Like, it looks better than before. But here\\'s what I think is going on here. There are certain apps that\\nare, like, pretty simple and high-contrast icons that look fine. Like, some of them are Apple apps, some of them are third-party apps, and then especially Apple widgets. Like, look at this weather widget. That looks great. That looks really solid\\nwith this nice accent color because it keeps\\neverything really readable. But then there are also\\nsome third-party app icons and widgets that just\\nlook completely illegible. Like, they may need to be updated to support this tinting thing\\nin a more contrasty way. So it\\'s the mixing of\\nthese two that look weird. Like even on my home\\nscreen, look at CARROT, like the weather app, or Superlist, they look worse than the rest of the icons on my home screen. I think the standard\\nthat they\\'re aiming for is, like, a dark gray background with a tinted glyph in the middle, instead of the whole thing being tinted. So it is what it is. I will also say Google has also tried this with Material You in Android, and it also kind of went weird in its own different, unique way. Basically, it would set all the icons to a monochrome version, but\\nif an app didn\\'t support it, it just didn\\'t change. So a lot of people had a\\nmix of monochrome icons and colorful icons, which\\nalso doesn\\'t look good at all. So, I guess the tinting method could be considered a workaround. I\\'m sure people will play with this more. Icons will continue to get updates. I\\'m sure someday maybe it\\'ll\\nlook great for some people, but I haven\\'t seen that yet. But all right, number two,\\nfor me, is the little things. Again, there are a bunch\\nof tiny little things and small features that\\nindividually are not huge, but they\\'ll kind of feel like they add up to a bunch of useful things in the end. A lot of them didn\\'t\\neven make the keynote. But, like, game mode, for\\nexample, they talked about this. We know that when you have a game open, it gives it CPU priority and\\nminimizes Bluetooth latency for any wireless\\nheadphones or controllers. That\\'s a really simple\\nthing, but it\\'s nice. The Photos app also got a redesign, but I also am more impressed\\nwith the smart search inside of Photos. It works much better. So if I search for, like\\n\"license plate,\" for example, not only does it recognize and find all the photos in your\\ngallery with license plates, but it also gives you these\\nsuggestions to narrow it down to find the exact one\\nthat you\\'re looking for, and it actually works. I\\'ve also noticed they\\nadded a bunch of shortcuts to Shazam everywhere, including\\nan Action button preset as one of the new defaults\\nin the Settings app. This wasn\\'t here before. I thought that was interesting. And then I Googled it, and\\napparently, Apple bought Shazam not that long ago, which\\nI totally forgot about. So there you have more of that. And RCS support does appear to finally be live on the iPhone in 2024. (clapping) It\\'s going great. Now, as I predicted, it\\nis still a green bubble, but you can now finally text between any modern Android phone and an iPhone and actually get high-quality media. I sent myself a three-megabyte\\nimage file from the iPhone, and I got a full-quality\\nthree-megabyte image on Android. And there\\'s also now typing indicators and read receipts now. Reactions seem to be working well. So it\\'s not fully integrated\\ninto a blue bubble iMessage, like maybe some people were hoping. But Apple can now say\\nthat they finally did it, and now that person\\nfrom that one interview doesn\\'t have to buy his mom an iPhone. But then number one. The number one best new feature in iOS 18, bro, it\\'s a calculator. (chuckling) It\\'s actually the calculator. Now, you might have thought\\nthis was just an iPad thing \\'cause we all saw this\\nget demoed at the keynote in iPadOS 18, but it actually\\nis on the iPhone, as well. So, as a default, you open\\nup the Calculator app, it just looks like a basic calculator. This looks very familiar. But at the bottom left,\\nthere\\'s this little toggle where you can switch to\\na scientific calculator. Okay, pretty classic. Or you can switch to this\\nnew thing called Math Notes. And now it basically\\nlooks like a notes app. So you can create a new note and literally just start\\nhandwriting math notes, literally. You can write an equation, and if you happen to\\nwrite that equal sign, it can automatically solve\\nthat equation for you and keep it updated as you\\ncontinue writing or typing. It\\'s pretty sick. There are also all kinds\\nof other things it can do, from variables to graphs. It\\'s basically doing everything I was asking Wolfram|Alpha to do lately. But a kind of underrated\\npart of this is how it feels very well considered, and it\\'s also syncing across devices just, like, as a bunch of notes. So your calculator just kind\\nof gained a notes section. So, if you add a bunch of\\nstuff to Notes on your iPhone, the iPad with the calculator\\nhas all of the same notes, and you can edit them on the other device. And if you happen to redefine a variable lower down in the same note, then it actually knows\\nthen from that point on to treat that variable as\\nthe new value you gave it but keeps the old value\\nfor everything above it. It\\'s very well impressively thought out. Now, obviously, this\\nstuff is gonna be easier with a bigger screen and\\nwith an Apple Pencil. But, man, I was doing\\nall this stuff in school with a paper notebook and a TI-84. So, at the risk of sounding kind of old, I totally wish I had something like this when I was in school. It\\'s very impressive. It\\'s doing so many things. It\\'s recognizing my handwriting. It\\'s obviously answering the\\nequations I\\'m asking of it, but it\\'s also writing the\\nanswers in my own handwriting and then it\\'s straightening everything up. And it\\'s making everything\\nsearchable and indexable through not just that Math\\nNotes app in all the devices but across my whole phone. So it\\'s pretty sick. I\\'m impressed by this more than anything else\\nI\\'ve seen in iOS 18. So that\\'s why it\\'s my number\\none feature in iOS 18. But there\\'s your whole top five. But like I said, get\\nsubscribed to see a deep dive into Apple Intelligence \\'cause this is the thing\\nthat kind of permeates the entire iPhone and\\nApple\\'s whole ecosystem. So that video\\'s coming up soon,\\nand that\\'s been it for this. Thanks for watching. Catch you the next one. Peace.')]"
      ]
     },
     "execution_count": 22,
     "metadata": {},
     "output_type": "execute_result"
    }
   ],
   "source": [
    "texts"
   ]
  },
  {
   "cell_type": "markdown",
   "metadata": {},
   "source": [
    "#### Insert data in Pinecone"
   ]
  },
  {
   "cell_type": "code",
   "execution_count": 23,
   "metadata": {},
   "outputs": [],
   "source": [
    "if model_choice == 'openai':\n",
    "    index_name = \"youtube-video-chatbot-openai\"\n",
    "    e = embeddings\n",
    "elif model_choice == 'huggingface':\n",
    "    index_name = \"youtube-video-chatbot-huggingface\"\n",
    "    e = hf_embeddings\n",
    "namespace = \"youtube-videos\"\n",
    "\n",
    "\n",
    "vectorstore = PineconeVectorStore(index_name=index_name, embedding=e)"
   ]
  },
  {
   "cell_type": "code",
   "execution_count": 24,
   "metadata": {},
   "outputs": [
    {
     "name": "stdout",
     "output_type": "stream",
     "text": [
      "\n",
      "\n",
      "\n",
      "\n",
      "----\n",
      "{'source': 'ArcI4A5nvBo', 'title': 'iOS 18 Hands-On: Top 5 Features!', 'description': 'Unknown', 'view_count': 5754471, 'thumbnail_url': 'https://i.ytimg.com/vi/ArcI4A5nvBo/hq720.jpg', 'publish_date': '2024-07-15 00:00:00', 'length': 766, 'author': 'Marques Brownlee'} (shapes springing)\n",
      "(groovy hip-hop music) - All right, it's mid-2024,\n",
      "so you know what that means, another new version of iOS\n",
      "coming to an iPhone near you. So, I've been testing the\n",
      "newest version of iOS 18 on my iPhone for the\n",
      "past couple weeks now. It's been in beta, and now\n",
      "that the public beta's out, you too can test it on an iPhone before it comes out for\n",
      "everyone in September. But there is some interesting\n",
      "stuff in this version. Now, last year, I\n",
      "remember talking about how almost every single one\n",
      "of those new features was super ecosystem-based. Like, they would depend on\n",
      "having a friend with an iPhone or having some other\n",
      "Apple device in your life, but it's kinda the opposite with these. They're all just basically new features to the iPhone, anyway. So I love to see that. Now, for this video, the\n",
      "one thing I'm leaving out is Apple Intelligence stuff. That's like an entire\n",
      "separate bucket of stuff that, to be honest, hasn't really been available for me to test\n",
      "in the pre-release betas. So I'm gonna make a separate\n",
      "video just about that stuff as soon as it's actually testable. So be sure to get subscribed to see that when I actually drop that video. But this video is the top\n",
      "five of everything else. All right, number five,\n",
      "the new Control Center. So I have this at number five because while there is a good\n",
      "amount of new stuff here, I don't know if I like\n",
      "all of the new changes, but let me know what you think. So when you pull down from the corner, the new Control Center is, first of all, a\n",
      "little bit more colorful, and it's paginated, it's three pages now. I'll honestly probably never really use the second two pages, but they\n",
      "are a full-page visualizer for whatever media is playing. And then a list of all\n",
      "these one-touch toggles for your basic connectivity. But actually turns out this full-page list is really just an expanded version of what you already had on the first page, so you can get there\n",
      "with a couple more taps. But okay, so on that first page, if you hit the plus button in\n",
      "the corner, it shows a grid, and then you can play with the size and placement of anything that has a tab in that bottom corner. So they all kind of have\n",
      "these predefined sizes that they morph between. So you can mess around\n",
      "here with, you know, basically designing your perfect layout for your control screen. You can add new controls, and there's a whole massive list of them to search through here and\n",
      "surface things that you do often. And right now, these are\n",
      "basically all Apple app controls. What I'm more interested in, though, is... I mean, these are all\n",
      "controls, like I said, not widgets. So, they're for controlling\n",
      "things very directly, like turning on wifi or\n",
      "turning up the brightness. And so Apple has said\n",
      "that third-party apps are gonna be able to build\n",
      "in controls, as well. So there's none here now,\n",
      "but I very much look forward to like a one-touch turning\n",
      "on the AC in the car or one-touch opening\n",
      "up the barcode scanner in my calorie tracker app\n",
      "or something like that. So just having more\n",
      "controls surface in here, that's gonna be pretty sweet. We've also noticed this\n",
      "new flashlight control, which, when you click\n",
      "it allows you to control both the intensity and the\n",
      "beam width of the torch for some reason. The intensity part definitely works. The beam width, I don't know if I'm as\n",
      "convinced on that one, but I guess it's still a really cool UI. Oh, also, there's a new button up here to turn off your phone, kinda like Android added a\n",
      "while ago in the settings. But also, you can now\n",
      "finally change the controls on your lock screen now. From the default, which\n",
      "have been the flashlight and the camera for\n",
      "forever, you can hold down, customize, lock screen, and get in there and go to town. Again, I hope there's third-party\n",
      "ones that end up here, but there's already a ton of options. I am excited to set mine to\n",
      "my to-do list app someday. But that brings us to number four, the number four best new iOS 18 feature and that's the Passwords app. You know, every once in a\n",
      "while, there's just a new update that installs a new app\n",
      "on everyone's phones and just drops it on your home screen. So this is one of them. But essentially, what this\n",
      "is is just breaking out all of the password tools that were previously buried\n",
      "in the settings on the phone and making it an app. So your iPhone's been saving\n",
      "your passwords for a while now, saving wifi passcodes,\n",
      "remembering all this stuff. This app is just a super simple way of finding it all in one place, searching through that stuff,\n",
      "and making sense of it. Plus, it also supports some new features. So there's two-factor\n",
      "authentication and pass keys. And then there's a couple\n",
      "extra things on top that may be good enough\n",
      "to get you to switch from whatever password manager app you're using on your iPhone\n",
      "to Apple's Passwords app. So, at the bottom left, you\n",
      "can create shared passwords and pass keys within a\n",
      "group of trusted contacts. Works with other people\n",
      "with iPhones, anyway. And then, when you're signing up for some new account somewhere, it'll do the same thing it always does. It offers a super secure password and then offers to remember it for you. But what I found interesting is it doesn't really have,\n",
      "like, a master password, it just seems on the iPhone\n",
      "to default to Face ID. So if you've got face ID on your iPhone, it'll ask for that to log\n",
      "in, no master password. Really, the main reason I'm\n",
      "not gonna be using this app is because I stole daily an Android phone, and, of course, they did\n",
      "not make an Android version of this Passwords app. They did make a Mac app, and they also did make a Chrome extension, which is interesting. But yeah, no Android app, and I still log into a\n",
      "bunch of stuff on Android, so it's not for me. But number three is gonna have to be the new home screen customization. Some of you might've\n",
      "expected this to be higher, like number one or number\n",
      "two, but I have my reasons, and maybe let me know\n",
      "if you agree with them. So, the day has finally come. There is new customization stuff available to iPhone home screens, kinda. I mean, there's some good stuff\n",
      "and also some weird stuff. I'll start with the stuff I like. Here's the easy part: iPhone users can now put their icons anywhere on their home\n",
      "screens that they want. Welcome to 2024, iPhone users. Who's got it better than you? Now, everything still snaps\n",
      "to the grid, of course, but now you can actually\n",
      "put icons on the right side or the bottom of your home screen where they'll actually be reachable, and they won't have to\n",
      "snap back up to the top. How cool is that? First, they give you widgets,\n",
      "now they give you this. It's unbelievable stuff. But now, okay, if you wanna\n",
      "customize even further, you hold down on anywhere\n",
      "on the home screen, and there's a little\n",
      "edit button at the top. You hit that, and then you hit customize, and then this is it. This is the entire home\n",
      "screen customization menu now for the iPhone. So you can go dark mode, which tints your\n",
      "wallpaper a little darker, and then sets your icons that have a dark mode\n",
      "version to dark mode. Or you could set light\n",
      "mode, which is the opposite. It sets your icons to light, and it tints your wallpaper\n",
      "light, and they're automatic. But there's also this large button here, which just makes all of your icons larger, but then also removes the text. Honestly, kind of clean, not gonna lie. But then there's this tinted button, which feels kind of cursed. So this is already kind\n",
      "of a weird-looking icon. When you click it, it\n",
      "lets you tint the color of all the icons on your home screen to a single matching color. Which sounds kind of cool in\n",
      "theory to match your wallpaper. And actually, there's even a color picker to drop exactly the same color that you're using from your\n",
      "wallpaper as your tint color. But there's just something about this tint that I can't quite get right. Like, I haven't gotten any combination to really look that good at all. Now, there's been some updates\n",
      "on this since the first beta. Still doesn't look great. Like, it looks better than before. But here's what I think is going on here. There are certain apps that\n",
      "are, like, pretty simple and high-contrast icons that look fine. Like, some of them are Apple apps, some of them are third-party apps, and then especially Apple widgets. Like, look at this weather widget. That looks great. That looks really solid\n",
      "\n",
      "\n",
      "\n",
      "\n",
      "----\n",
      "\n",
      "\n",
      "\n",
      "\n",
      "----\n",
      "{'source': 'ArcI4A5nvBo', 'title': 'iOS 18 Hands-On: Top 5 Features!', 'description': 'Unknown', 'view_count': 5754471, 'thumbnail_url': 'https://i.ytimg.com/vi/ArcI4A5nvBo/hq720.jpg', 'publish_date': '2024-07-15 00:00:00', 'length': 766, 'author': 'Marques Brownlee'} on this since the first beta. Still doesn't look great. Like, it looks better than before. But here's what I think is going on here. There are certain apps that\n",
      "are, like, pretty simple and high-contrast icons that look fine. Like, some of them are Apple apps, some of them are third-party apps, and then especially Apple widgets. Like, look at this weather widget. That looks great. That looks really solid\n",
      "with this nice accent color because it keeps\n",
      "everything really readable. But then there are also\n",
      "some third-party app icons and widgets that just\n",
      "look completely illegible. Like, they may need to be updated to support this tinting thing\n",
      "in a more contrasty way. So it's the mixing of\n",
      "these two that look weird. Like even on my home\n",
      "screen, look at CARROT, like the weather app, or Superlist, they look worse than the rest of the icons on my home screen. I think the standard\n",
      "that they're aiming for is, like, a dark gray background with a tinted glyph in the middle, instead of the whole thing being tinted. So it is what it is. I will also say Google has also tried this with Material You in Android, and it also kind of went weird in its own different, unique way. Basically, it would set all the icons to a monochrome version, but\n",
      "if an app didn't support it, it just didn't change. So a lot of people had a\n",
      "mix of monochrome icons and colorful icons, which\n",
      "also doesn't look good at all. So, I guess the tinting method could be considered a workaround. I'm sure people will play with this more. Icons will continue to get updates. I'm sure someday maybe it'll\n",
      "look great for some people, but I haven't seen that yet. But all right, number two,\n",
      "for me, is the little things. Again, there are a bunch\n",
      "of tiny little things and small features that\n",
      "individually are not huge, but they'll kind of feel like they add up to a bunch of useful things in the end. A lot of them didn't\n",
      "even make the keynote. But, like, game mode, for\n",
      "example, they talked about this. We know that when you have a game open, it gives it CPU priority and\n",
      "minimizes Bluetooth latency for any wireless\n",
      "headphones or controllers. That's a really simple\n",
      "thing, but it's nice. The Photos app also got a redesign, but I also am more impressed\n",
      "with the smart search inside of Photos. It works much better. So if I search for, like\n",
      "\"license plate,\" for example, not only does it recognize and find all the photos in your\n",
      "gallery with license plates, but it also gives you these\n",
      "suggestions to narrow it down to find the exact one\n",
      "that you're looking for, and it actually works. I've also noticed they\n",
      "added a bunch of shortcuts to Shazam everywhere, including\n",
      "an Action button preset as one of the new defaults\n",
      "in the Settings app. This wasn't here before. I thought that was interesting. And then I Googled it, and\n",
      "apparently, Apple bought Shazam not that long ago, which\n",
      "I totally forgot about. So there you have more of that. And RCS support does appear to finally be live on the iPhone in 2024. (clapping) It's going great. Now, as I predicted, it\n",
      "is still a green bubble, but you can now finally text between any modern Android phone and an iPhone and actually get high-quality media. I sent myself a three-megabyte\n",
      "image file from the iPhone, and I got a full-quality\n",
      "three-megabyte image on Android. And there's also now typing indicators and read receipts now. Reactions seem to be working well. So it's not fully integrated\n",
      "into a blue bubble iMessage, like maybe some people were hoping. But Apple can now say\n",
      "that they finally did it, and now that person\n",
      "from that one interview doesn't have to buy his mom an iPhone. But then number one. The number one best new feature in iOS 18, bro, it's a calculator. (chuckling) It's actually the calculator. Now, you might have thought\n",
      "this was just an iPad thing 'cause we all saw this\n",
      "get demoed at the keynote in iPadOS 18, but it actually\n",
      "is on the iPhone, as well. So, as a default, you open\n",
      "up the Calculator app, it just looks like a basic calculator. This looks very familiar. But at the bottom left,\n",
      "there's this little toggle where you can switch to\n",
      "a scientific calculator. Okay, pretty classic. Or you can switch to this\n",
      "new thing called Math Notes. And now it basically\n",
      "looks like a notes app. So you can create a new note and literally just start\n",
      "handwriting math notes, literally. You can write an equation, and if you happen to\n",
      "write that equal sign, it can automatically solve\n",
      "that equation for you and keep it updated as you\n",
      "continue writing or typing. It's pretty sick. There are also all kinds\n",
      "of other things it can do, from variables to graphs. It's basically doing everything I was asking Wolfram|Alpha to do lately. But a kind of underrated\n",
      "part of this is how it feels very well considered, and it's also syncing across devices just, like, as a bunch of notes. So your calculator just kind\n",
      "of gained a notes section. So, if you add a bunch of\n",
      "stuff to Notes on your iPhone, the iPad with the calculator\n",
      "has all of the same notes, and you can edit them on the other device. And if you happen to redefine a variable lower down in the same note, then it actually knows\n",
      "then from that point on to treat that variable as\n",
      "the new value you gave it but keeps the old value\n",
      "for everything above it. It's very well impressively thought out. Now, obviously, this\n",
      "stuff is gonna be easier with a bigger screen and\n",
      "with an Apple Pencil. But, man, I was doing\n",
      "all this stuff in school with a paper notebook and a TI-84. So, at the risk of sounding kind of old, I totally wish I had something like this when I was in school. It's very impressive. It's doing so many things. It's recognizing my handwriting. It's obviously answering the\n",
      "equations I'm asking of it, but it's also writing the\n",
      "answers in my own handwriting and then it's straightening everything up. And it's making everything\n",
      "searchable and indexable through not just that Math\n",
      "Notes app in all the devices but across my whole phone. So it's pretty sick. I'm impressed by this more than anything else\n",
      "I've seen in iOS 18. So that's why it's my number\n",
      "one feature in iOS 18. But there's your whole top five. But like I said, get\n",
      "subscribed to see a deep dive into Apple Intelligence 'cause this is the thing\n",
      "that kind of permeates the entire iPhone and\n",
      "Apple's whole ecosystem. So that video's coming up soon,\n",
      "and that's been it for this. Thanks for watching. Catch you the next one. Peace.\n",
      "\n",
      "\n",
      "\n",
      "\n",
      "----\n"
     ]
    }
   ],
   "source": [
    "for document in texts:\n",
    "    print(\"\\n\\n\\n\\n----\")\n",
    "\n",
    "    print(document.metadata, document.page_content)\n",
    "\n",
    "    print('\\n\\n\\n\\n----')"
   ]
  },
  {
   "cell_type": "code",
   "execution_count": 25,
   "metadata": {},
   "outputs": [],
   "source": [
    "if model_choice == 'openai':\n",
    "    e = embeddings\n",
    "elif model_choice == 'huggingface':\n",
    "    e = hf_embeddings\n",
    "\n",
    "vectorstore_from_texts = PineconeVectorStore.from_texts([f\"Source: {t.metadata['source']}, Title: {t.metadata['title']} \\n\\nContent: {t.page_content}\" for t in texts], e, index_name=index_name, namespace=namespace)"
   ]
  },
  {
   "cell_type": "markdown",
   "metadata": {},
   "source": [
    "#### Perform RAG"
   ]
  },
  {
   "cell_type": "code",
   "execution_count": 26,
   "metadata": {},
   "outputs": [],
   "source": [
    "# Initialize Pinecone\n",
    "pc = Pinecone(api_key=pinecone_api_key,)\n",
    "\n",
    "# Connect to your Pinecone index\n",
    "pinecone_index = pc.Index(index_name)"
   ]
  },
  {
   "cell_type": "code",
   "execution_count": 27,
   "metadata": {},
   "outputs": [],
   "source": [
    "query = \"What is this video about?\""
   ]
  },
  {
   "cell_type": "code",
   "execution_count": 28,
   "metadata": {},
   "outputs": [],
   "source": [
    "if model_choice == 'openai':\n",
    "    raw_query_embedding = openai_client.embeddings.create(input=[query], model=\"text-embedding-3-small\")\n",
    "elif model_choice == 'huggingface':\n",
    "    raw_query_embedding = openai_client.embeddings.create(input=[query], model=\"multilingual-e5-large\")\n",
    "\n",
    "query_embedding = raw_query_embedding.data[0].embedding"
   ]
  },
  {
   "cell_type": "code",
   "execution_count": 29,
   "metadata": {},
   "outputs": [],
   "source": [
    "top_matches = pinecone_index.query(vector=query_embedding, top_k=10, include_metadata=True, namespace=namespace)"
   ]
  },
  {
   "cell_type": "code",
   "execution_count": 30,
   "metadata": {},
   "outputs": [],
   "source": [
    "# List of retrieved texts, feed into prompt of llm\n",
    "contexts = [item['metadata']['text'] for item in top_matches['matches']]"
   ]
  },
  {
   "cell_type": "code",
   "execution_count": 31,
   "metadata": {},
   "outputs": [],
   "source": [
    "augmented_query = \"\\n\" + \"\\n\\n-------\\n\\n\".join(contexts[ : 10]) + \"\\n-------\\n\\n\\n\\n\\nMY QUESTION:\\n\" + query"
   ]
  },
  {
   "cell_type": "code",
   "execution_count": 32,
   "metadata": {},
   "outputs": [],
   "source": [
    "primer = f\"\"\"You are a personal assistant. Answer any questions I have about the YouTube Video provided. \n",
    "You always answer questions based on the information provided in the video.\n",
    "\"\"\"\n",
    "if model_choice == 'openai':\n",
    "    res = openai_client.chat.completions.create(\n",
    "        model=\"gpt-4o-mini\",\n",
    "        messages=[\n",
    "            {\"role\": \"system\", \"content\": primer},\n",
    "            {\"role\": \"user\", \"content\": augmented_query},\n",
    "        ],\n",
    "    )\n",
    "elif model_choice == 'huggingface':\n",
    "    res = openrouter_client.chat.completions.create(\n",
    "        model=\"meta-llama/llama-3.1-8b-instruct:free\",\n",
    "        messages=[\n",
    "            {\"role\": \"system\", \"content\": primer},\n",
    "            {\"role\": \"user\", \"content\": augmented_query},\n",
    "        ],\n",
    "    )\n",
    "\n",
    "answer = res.choices[0].message.content"
   ]
  },
  {
   "cell_type": "code",
   "execution_count": 33,
   "metadata": {},
   "outputs": [
    {
     "data": {
      "text/plain": [
       "\"The video is a hands-on review of the top five features of iOS 18, which is the latest version of Apple's operating system for iPhones. The presenter discusses their experience testing the public beta of iOS 18 and highlights features that are focused on enhancing the iPhone experience, rather than being dependent on other Apple devices. \\n\\nThe five key features discussed include:\\n\\n1. **New Control Center** - A more colorful and paginated Control Center with customizable controls and new options for managing media playback.\\n\\n2. **Passwords App** - A standalone app that organizes and simplifies password management, including options for two-factor authentication and pass keys.\\n\\n3. **Home Screen Customization** - New options for arranging app icons freely on the home screen and customizing themes, although there are some challenges with the new tinting features.\\n\\n4. **Various Small Enhancements** - Features that improve user experience, such as game mode for gaming performance, enhanced photo search functionality, and improved RCS support for messaging.\\n\\n5. **Calculator with Math Notes** - A revamped Calculator app that includes a Math Notes feature allowing users to write and solve mathematical equations.\\n\\nOverall, the video provides an overview of these updates and is aimed at informing viewers about the new capabilities coming to iPhones with iOS 18.\""
      ]
     },
     "execution_count": 33,
     "metadata": {},
     "output_type": "execute_result"
    }
   ],
   "source": [
    "answer"
   ]
  },
  {
   "cell_type": "markdown",
   "metadata": {},
   "source": [
    "#### Putting it all together"
   ]
  },
  {
   "cell_type": "code",
   "execution_count": 34,
   "metadata": {},
   "outputs": [],
   "source": [
    "def perform_rag_openai(query):\n",
    "    raw_query_embedding = openai_client.embeddings.create(\n",
    "        input=query,\n",
    "        model=\"text-embedding-3-small\"\n",
    "    )\n",
    "\n",
    "    query_embedding = raw_query_embedding.data[0].embedding\n",
    "\n",
    "    top_matches = pinecone_index.query(vector=query_embedding, top_k=10, include_metadata=True, namespace=namespace)\n",
    "\n",
    "    # Get the list of retrieved texts\n",
    "    contexts = [item['metadata']['text'] for item in top_matches['matches']]\n",
    "\n",
    "    augmented_query = \"\\n\" + \"\\n\\n-------\\n\\n\".join(contexts[ : 10]) + \"\\n-------\\n\\n\\n\\n\\nMY QUESTION:\\n\" + query\n",
    "\n",
    "    # Modify the prompt below as need to improve the response quality\n",
    "    system_prompt = f\"\"\"You are an expert personal assistant. Answer any questions I have about the Youtube Video provided. You always answer questions based only on the context that you have been provided.\n",
    "    \"\"\"\n",
    "\n",
    "    res = openai_client.chat.completions.create(\n",
    "        model=\"gpt-4o-mini\",\n",
    "        messages=[\n",
    "            {\"role\": \"system\", \"content\": system_prompt},\n",
    "            {\"role\": \"user\", \"content\": augmented_query}\n",
    "        ]\n",
    "    )\n",
    "\n",
    "    return res.choices[0].message.content\n"
   ]
  },
  {
   "cell_type": "code",
   "execution_count": 35,
   "metadata": {},
   "outputs": [
    {
     "data": {
      "text/plain": [
       "'The video titled \"iOS 18 Hands-On: Top 5 Features!\" discusses the new features of the iOS 18, which is set to be released for iPhones in September 2024 after being in beta testing. The creator shares their experience of using the new version and highlights five key features of iOS 18, which include:\\n\\n1. **New Control Center** - A more colorful and paginated Control Center with enhanced controls and customization options.\\n2. **Passwords App** - A new app that consolidates password management previously found in settings, allowing for easier access and sharing.\\n3. **Home Screen Customization** - Enhanced capabilities for arranging app icons and new options for theme settings (dark/light modes).\\n4. **Helpful Smaller Features** - Includes improvements in the Photos app, game mode for better performance during gaming, and Shazam integration.\\n5. **Calculator with Math Notes** - A new calculator feature that allows users to write equations by hand and get solutions dynamically, along with syncing across devices.\\n\\nThe video emphasizes that many features are focused on iPhone usability rather than requiring other Apple devices and notes that a separate video will cover the Apple Intelligence features when they become testable.'"
      ]
     },
     "execution_count": 35,
     "metadata": {},
     "output_type": "execute_result"
    }
   ],
   "source": [
    "perform_rag_openai(\"What is this video about?\")"
   ]
  },
  {
   "cell_type": "markdown",
   "metadata": {},
   "source": [
    "#### RAG on PDF"
   ]
  },
  {
   "cell_type": "code",
   "execution_count": null,
   "metadata": {},
   "outputs": [],
   "source": [
    "loader = PyPDFLoader(\"/content/Harry Potter and the Sorcerers Stone.pdf\") # Insert the path to a PDF here\n",
    "data = loader.load()\n",
    "\n",
    "print(data)\n",
    "\n",
    "text_splitter = RecursiveCharacterTextSplitter(\n",
    "        chunk_size=2000,\n",
    "        chunk_overlap=100,\n",
    "        length_function=tiktoken_len,\n",
    "        separators=[\"\\n\\n\", \"\\n\", \" \", \"\"]\n",
    "    )\n",
    "\n",
    "texts = text_splitter.split_documents(data)\n",
    "\n",
    "# Insert all the chunks from the PDF into Pinecone\n",
    "vectorstore_from_texts = PineconeVectorStore.from_texts([f\"Source: {t.metadata['source']}, Title: {t.metadata['title']} \\n\\nContent: {t.page_content}\" for t in texts], embeddings, index_name=index_name, namespace=namespace)\n",
    "\n",
    "# After this, all the code is the same from the Perform RAG section of this notebook\n",
    "# Since the data from the PDF is now stored in Pinecone, you can perform RAG over it the same way as the YouTube video"
   ]
  }
 ],
 "metadata": {
  "kernelspec": {
   "display_name": "chatbot3",
   "language": "python",
   "name": "python3"
  },
  "language_info": {
   "codemirror_mode": {
    "name": "ipython",
    "version": 3
   },
   "file_extension": ".py",
   "mimetype": "text/x-python",
   "name": "python",
   "nbconvert_exporter": "python",
   "pygments_lexer": "ipython3",
   "version": "3.10.14"
  }
 },
 "nbformat": 4,
 "nbformat_minor": 2
}
